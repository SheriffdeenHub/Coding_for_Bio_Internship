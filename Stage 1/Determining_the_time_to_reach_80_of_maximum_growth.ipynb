{
  "nbformat": 4,
  "nbformat_minor": 0,
  "metadata": {
    "colab": {
      "provenance": []
    },
    "kernelspec": {
      "name": "ir",
      "display_name": "R"
    },
    "language_info": {
      "name": "R"
    }
  },
  "cells": [
    {
      "cell_type": "code",
      "execution_count": null,
      "metadata": {
        "colab": {
          "base_uri": "https://localhost:8080/",
          "height": 34
        },
        "id": "lvnRD2IfE_PP",
        "outputId": "693fb5c2-8e21-4937-eff3-6e25aac4716e"
      },
      "outputs": [
        {
          "output_type": "display_data",
          "data": {
            "text/html": [
              "6.93147180559945"
            ],
            "text/markdown": "6.93147180559945",
            "text/latex": "6.93147180559945",
            "text/plain": [
              "[1] 6.931472"
            ]
          },
          "metadata": {}
        }
      ],
      "source": [
        "# Growth equation:\n",
        "# P(t) = K / (1 +((K - P0) / p0)* e-rt\n",
        "\n",
        "          # where:\n",
        "          # P(t) = population at time t\n",
        "          # P0 = initial population\n",
        "          # K = carrying capacity\n",
        "          # r = growth rate\n",
        "          # t = time\n",
        "\n",
        "# To find the time ttt when the population reaches 80% of K (i.e., 0.8K), we solve:\n",
        "# 0.8K = K / (1 +((K - P0) / p0) * e-rt\n",
        "\n",
        "\n",
        "# Taking the natural logarithm and solving for ttt gives:\n",
        "# t = −ln (K / 0.8K−1) / r\n",
        "\n",
        "# Function to calculate time to reach 80% of carrying capacity\n",
        "time_to_80_growth <- function(P0, K, r) {\n",
        "\n",
        "\n",
        "  # calculate the time\n",
        "  t <- -log((K / (0.8 * K)) - 1) / r\n",
        "\n",
        "  return(t)\n",
        "}\n",
        "\n",
        "# Example Usage\n",
        "P0 <- 10    # Initial population\n",
        "K <- 1000   # Carrying capacity\n",
        "r <- 0.2    # Growth rate\n",
        "\n",
        "time_to_80_growth(P0, K, r)\n"
      ]
    }
  ]
}