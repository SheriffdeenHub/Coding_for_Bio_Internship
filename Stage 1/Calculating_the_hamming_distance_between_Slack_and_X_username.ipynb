{
  "nbformat": 4,
  "nbformat_minor": 0,
  "metadata": {
    "colab": {
      "provenance": []
    },
    "kernelspec": {
      "name": "ir",
      "display_name": "R"
    },
    "language_info": {
      "name": "R"
    }
  },
  "cells": [
    {
      "cell_type": "code",
      "execution_count": 1,
      "metadata": {
        "colab": {
          "base_uri": "https://localhost:8080/"
        },
        "id": "oEtfV8_tbL2M",
        "outputId": "c4145224-2763-4766-d84d-3ba6d7a5c627"
      },
      "outputs": [
        {
          "output_type": "stream",
          "name": "stdout",
          "text": [
            "[1] \"Hamming distance between TomiDBeloved and The_Scholargirl is: 14\"\n",
            "[1] \"Hamming distance between Sheriffdeen and Sheriffdeen_H is: 2\"\n",
            "[1] \"Hamming distance between Sam and Sam_001 is: 4\"\n"
          ]
        }
      ],
      "source": [
        "# Function to calculate Hamming distance\n",
        "hamming_distance <- function(str1, str2) {\n",
        "                # Pad the shorter string with spaces\n",
        "                if (nchar(str1) < nchar(str2)) {\n",
        "                                str1 <- paste0(str1, strrep(\" \", nchar(str2) - nchar(str1)))\n",
        "                } else if (nchar(str2) < nchar(str1)) {\n",
        "                                str2 <- paste0(str2, strrep(\" \", nchar(str1) - nchar(str2)))\n",
        "                }\n",
        "\n",
        "                # Calculate Hamming distance\n",
        "                distance <- sum(strsplit(str1, NULL)[[1]] != strsplit(str2, NULL)[[1]])\n",
        "                return(distance)\n",
        "}\n",
        "\n",
        "# Usernames\n",
        "usernames <- list(\n",
        "                c(\"TomiDBeloved\", \"The_Scholargirl\"),\n",
        "                c(\"Sheriffdeen\", \"Sheriffdeen_H\"),\n",
        "                c(\"Sam\", \"Sam_001\")\n",
        ")\n",
        "\n",
        "# Calculate Hamming distances for each pair of usernames\n",
        "for (pair in usernames) {\n",
        "                str1 <- pair[1]\n",
        "                str2 <- pair[2]\n",
        "                distance <- hamming_distance(str1, str2)\n",
        "                print(paste(\"Hamming distance between\", str1, \"and\", str2, \"is:\", distance))\n",
        "}"
      ]
    }
  ]
}