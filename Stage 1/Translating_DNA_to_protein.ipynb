{
  "nbformat": 4,
  "nbformat_minor": 0,
  "metadata": {
    "colab": {
      "provenance": []
    },
    "kernelspec": {
      "name": "ir",
      "display_name": "R"
    },
    "language_info": {
      "name": "R"
    }
  },
  "cells": [
    {
      "cell_type": "code",
      "execution_count": 1,
      "metadata": {
        "colab": {
          "base_uri": "https://localhost:8080/"
        },
        "id": "4iKyv9-mSfcU",
        "outputId": "95216030-a1f8-4b46-8024-e8da1458e588"
      },
      "outputs": [
        {
          "output_type": "stream",
          "name": "stdout",
          "text": [
            "[1] \"SCKLTWNR\"\n"
          ]
        }
      ],
      "source": [
        "# Define the function to translate DNA to protein\n",
        "translate_dna_to_protein <- function(dna_sequence) {\n",
        "\n",
        "# Convert DNA to RNA\n",
        "                rna_sequence <- gsub(\"T\", \"U\", toupper(dna_sequence))\n",
        "\n",
        "  # Define the genetic code\n",
        "                genetic_code <- c(\n",
        "                                UUU = \"F\", UUC = \"F\", UUA = \"L\", UUG = \"L\",\n",
        "                                CUU = \"L\", CUC = \"L\", CUA = \"L\", CUG = \"L\",\n",
        "                                AUU = \"I\", AUC = \"I\", AUA = \"I\", AUG = \"M\",\n",
        "                                GUU = \"V\", GUC = \"V\", GUA = \"V\", GUG = \"V\",\n",
        "                                UCU = \"S\", UCC = \"S\", UCA = \"S\", UCG = \"S\",\n",
        "                                CCU = \"P\", CCC = \"P\", CCA = \"P\", CCG = \"P\",\n",
        "                                ACU = \"T\", ACC = \"T\", ACA = \"T\", ACG = \"T\",\n",
        "                                GCU = \"A\", GCC = \"A\", GCA = \"A\", GCG = \"A\",\n",
        "                                UAU = \"Y\", UAC = \"Y\", UAA = \"Stop\", UAG = \"Stop\",\n",
        "                                CAU = \"H\", CAC = \"H\", CAA = \"Q\", CAG = \"Q\",\n",
        "                                AAU = \"N\", AAC = \"N\", AAA = \"K\", AAG = \"K\",\n",
        "                                GAU = \"D\", GAC = \"D\", GAA = \"E\", GAG = \"E\",\n",
        "                                UGU = \"C\", UGC = \"C\", UGA = \"Stop\", UGG = \"W\",\n",
        "                                CGU = \"R\", CGC = \"R\", CGA = \"R\", CGG = \"R\",\n",
        "                                AGU = \"S\", AGC = \"S\", AGA = \"R\", AGG = \"R\",\n",
        "                                GGU = \"G\", GGC = \"G\", GGA = \"G\", GGG = \"G\"\n",
        "                )\n",
        "                # Split RNA sequence into codons\n",
        "                codons <- substring(rna_sequence, seq(1, nchar(rna_sequence) - 2, 3), seq(3, nchar(rna_sequence), 3))\n",
        "\n",
        "                # Translate codons to amino acids\n",
        "                protein <- sapply(codons, function(codon) genetic_code[[codon]])\n",
        "\n",
        "                # Combine amino acids into a protein string\n",
        "                protein_sequence <- paste(protein, collapse = \"\")\n",
        "\n",
        "                # Return the protein sequence\n",
        "                return(protein_sequence)\n",
        "}\n",
        "\n",
        "#Translate AGCTGTAAGCTGACCTGGAATCGT to protein\n",
        "dna_sequence <- \"AGCTGTAAGCTGACCTGGAATCGT\"\n",
        "protein_sequence <- translate_dna_to_protein(dna_sequence)\n",
        "\n",
        "#show the protein sequence\n",
        "print(protein_sequence)"
      ]
    }
  ]
}